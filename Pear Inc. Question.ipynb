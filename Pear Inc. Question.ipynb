{
 "cells": [
  {
   "cell_type": "markdown",
   "id": "bfbcba79",
   "metadata": {},
   "source": [
    "![image.png](pear.png)"
   ]
  },
  {
   "cell_type": "markdown",
   "id": "3115411c",
   "metadata": {},
   "source": [
    "***"
   ]
  },
  {
   "cell_type": "markdown",
   "id": "19ceee55",
   "metadata": {},
   "source": [
    "# Welcome to Pear Inc. \n",
    "\n",
    "Hi there! \n",
    "My name is Robert! You can call me Bob 😉. <br>\n",
    "I'm the communications officer (fancy title ha!) in our glorious company 😇.\n",
    "My job is to help facilitate product development and market penetration 🤓. <br>\n",
    "I spent endless hours talking to engineers, product managers, and  customers 😱  \n",
    "\n",
    "Since we are a 20 people start-up (All of us have fancy names 😂), I also do some recruiting from time to time 💪 <br>\n",
    "We are looking for **brave souls who are not afraid of a challenge and will help us** with our new product line of smart t-shirts! 🧐 <br> \n",
    "\n",
    "(Our CEO believes that smart t-shirts are the right direction for some reason 😅 I guess if you make something nobody needs, you won't have to sell it 🤓) <br>\n",
    "\n",
    "Let me tell you a little bit more about our problem that you can help us with:<br>\n",
    "We are creating a life changing smart t-shirt which has bluetooth and connects to your phone 🥳. They will be customizable outfits through downloaded applications. Our smart t-shirt will be developed with Google Wear OS which is a version of Google's Android operating system designed for smartwatches and other wearables. So users will be able to install custom programs through Google Play Store 🤭. <br> And we will sell them for 999.9$ a piece 💰💰💰<br>\n",
    "But our engineers wanted to ensure that only Pear Inc. approved programs can be installed on our t-shirts because\n",
    "market analysis showed that potential customers are afraid of ransomware that will break their \"*premium*\" t-shirts 🤦‍. So we need an antivirus for approving apps on the fly! <br>However, we don't want to install an off the shelf antivirus to our t-shirts 🤫, because BIG profit margins matter 🏦!\n",
    "\n",
    "##### Enough chit-chat!\n",
    "Let's get down to the business of why I contacted you: <br>\n",
    "Our bright engineers came up with an algorithm that creates compressed signatures for the apps in the Google Play Store. It is called '*manifold averaging generally intelligent compressor*' or as we call it 'MAGIC'. <br>\n",
    "The engineers told us that the outputs of MAGIC reflect the statistical properties of the uncompressed apps (whatever that may mean! 🤦‍). <br> MAGIC takes a Google Play Store app as an input and outputs a 4 dimensional numerical signature (they called it a vector but calling it a vector is not fancy enough for marketing! 🤪).   \n",
    "\n",
    "Now, since these signatures are just numbers, an off the shelf antivirus can't work with them (even if it could, we can't install an off the shelf antivirus into our t-shirts -- too much computing power and space is needed). Therefore **we need a light weight proof of concept that takes these signatures as inputs and outputs labels (virus or not) for them.** We eventually want to install your program into our smart t-shirts, where it will scan a Google Play Store app (its signature to be precise!) and stop the app's execution if it thinks the app is a virus! But we are not going so far just yet so you only need to create the pipeline that take the signatures, and output labels for them. Don't worry about the rest, it is just a proof of concept at the end 😉. We are providing the dataset for you to develop your model.\n",
    "\n",
    "In a nutshell: \n",
    "- There 4 dimensional (4 feature) numerical inputs (signatures) with labels!\n",
    "- We need a simple model that takes these inputs and labels them (Virus, Not a Virus)\n",
    "- We also need you to evaluate your model. Choose any metric you want, but don't forget to explain why, since I don't know much about this field (that is why we need your help!)\n",
    "\n",
    "Things to keep in mind:\n",
    "- There are less 'Virus' in the dataset than 'Not a Virus'. (Naturally!)\n",
    "- While we call it MAGIC, it still sometimes doesn't work well 🤦‍, so there are signatures with missing features (missing values).\n",
    "- I don't know much about these things so please show your work, your thinking process and please make it as clear as possible, otherwise I get confused 😵. (Visualizations of the data and comments in your code would be great!)\n",
    "\n",
    "***\n",
    "##### Let me describe the dataset, and you are ready to get to work!\n",
    "\n",
    "It is a CSV file. Each row represents a signature for an app. First 4 columns from left to right represent dimensions (features) and the last column is the label (isVirus: True or False). \n",
    "\n",
    "- Visualize the data (so that people like me can understand!)\n",
    "- Clean up the data (balance it out, impute missing values and so on... depending on the method you are going to use!)\n",
    "- Visualize the cleaned data (so that people like me can understand the effect of cleaning process!)\n",
    "- Create a simple model that performs reasonably well. (If it doesn't perform well, comment on why and how to improve it!)\n",
    "- Evaluate the model with a testset you will create from the dataset. (Pretty plots make things easier to understand)\n",
    "- Upload your code to a private github repo you can share with us, and invite us (https://github.com/tarikkranda, https://github.com/ltc0060 and https://github.com/ahmetkoklu) as collaborators so only we can see our super-secret project. \n",
    "\n",
    "And you are done! (Don't forget to comment, and show your work please 🤓)\n"
   ]
  },
  {
   "cell_type": "markdown",
   "id": "d3a7b430",
   "metadata": {},
   "source": [
    "### SOLUTION :\n"
   ]
  },
  {
   "cell_type": "code",
   "execution_count": 110,
   "id": "ce8937e1",
   "metadata": {},
   "outputs": [],
   "source": [
    "import numpy as np\n",
    "import pandas as pd\n",
    "import seaborn as sns\n",
    "\n",
    "from sklearn.model_selection import train_test_split, GridSearchCV,cross_val_score\n",
    "from sklearn.metrics import mean_squared_error, r2_score\n",
    "from sklearn.ensemble import RandomForestRegressor, RandomForestClassifier\n",
    "import re\n",
    "from pandas.api.types import is_string_dtype\n",
    "from pandas.api.types import is_numeric_dtype\n",
    "import matplotlib.pyplot as plt\n",
    "import math\n",
    "from sklearn import model_selection\n",
    "from sklearn.neighbors import KNeighborsRegressor\n",
    "from warnings import filterwarnings\n",
    "filterwarnings('ignore')"
   ]
  },
  {
   "cell_type": "code",
   "execution_count": 111,
   "id": "38d508b9",
   "metadata": {},
   "outputs": [],
   "source": [
    "df = pd.read_csv('dataset.csv')"
   ]
  },
  {
   "cell_type": "code",
   "execution_count": 112,
   "id": "ccd54276",
   "metadata": {},
   "outputs": [
    {
     "data": {
      "text/html": [
       "<div>\n",
       "<style scoped>\n",
       "    .dataframe tbody tr th:only-of-type {\n",
       "        vertical-align: middle;\n",
       "    }\n",
       "\n",
       "    .dataframe tbody tr th {\n",
       "        vertical-align: top;\n",
       "    }\n",
       "\n",
       "    .dataframe thead th {\n",
       "        text-align: right;\n",
       "    }\n",
       "</style>\n",
       "<table border=\"1\" class=\"dataframe\">\n",
       "  <thead>\n",
       "    <tr style=\"text-align: right;\">\n",
       "      <th></th>\n",
       "      <th>feature_1</th>\n",
       "      <th>feature_2</th>\n",
       "      <th>feature_3</th>\n",
       "      <th>feature_4</th>\n",
       "      <th>isVirus</th>\n",
       "    </tr>\n",
       "  </thead>\n",
       "  <tbody>\n",
       "    <tr>\n",
       "      <th>0</th>\n",
       "      <td>-0.233467</td>\n",
       "      <td>0.308799</td>\n",
       "      <td>2.484015</td>\n",
       "      <td>1.732721</td>\n",
       "      <td>False</td>\n",
       "    </tr>\n",
       "    <tr>\n",
       "      <th>1</th>\n",
       "      <td>1.519003</td>\n",
       "      <td>1.238482</td>\n",
       "      <td>3.344450</td>\n",
       "      <td>0.783744</td>\n",
       "      <td>False</td>\n",
       "    </tr>\n",
       "    <tr>\n",
       "      <th>2</th>\n",
       "      <td>0.400640</td>\n",
       "      <td>1.916748</td>\n",
       "      <td>3.291096</td>\n",
       "      <td>-0.918519</td>\n",
       "      <td>False</td>\n",
       "    </tr>\n",
       "    <tr>\n",
       "      <th>3</th>\n",
       "      <td>-1.616474</td>\n",
       "      <td>0.209703</td>\n",
       "      <td>1.461544</td>\n",
       "      <td>-0.291837</td>\n",
       "      <td>False</td>\n",
       "    </tr>\n",
       "    <tr>\n",
       "      <th>4</th>\n",
       "      <td>1.480515</td>\n",
       "      <td>5.299829</td>\n",
       "      <td>2.640670</td>\n",
       "      <td>1.867559</td>\n",
       "      <td>True</td>\n",
       "    </tr>\n",
       "  </tbody>\n",
       "</table>\n",
       "</div>"
      ],
      "text/plain": [
       "   feature_1  feature_2  feature_3  feature_4  isVirus\n",
       "0  -0.233467   0.308799   2.484015   1.732721    False\n",
       "1   1.519003   1.238482   3.344450   0.783744    False\n",
       "2   0.400640   1.916748   3.291096  -0.918519    False\n",
       "3  -1.616474   0.209703   1.461544  -0.291837    False\n",
       "4   1.480515   5.299829   2.640670   1.867559     True"
      ]
     },
     "execution_count": 112,
     "metadata": {},
     "output_type": "execute_result"
    }
   ],
   "source": [
    "df.head(5) #first 5 rows in dataset"
   ]
  },
  {
   "cell_type": "code",
   "execution_count": 113,
   "id": "8b9a92dd",
   "metadata": {},
   "outputs": [
    {
     "data": {
      "text/plain": [
       "<AxesSubplot:ylabel='isVirus'>"
      ]
     },
     "execution_count": 113,
     "metadata": {},
     "output_type": "execute_result"
    },
    {
     "data": {
      "image/png": "[encoded data removed]",
      "text/plain": [
       "<Figure size 432x288 with 1 Axes>"
      ]
     },
     "metadata": {},
     "output_type": "display_data"
    }
   ],
   "source": [
    "df.isVirus.value_counts().plot(kind='pie',autopct='%1.0f%%') #Percentage of virus or not"
   ]
  },
  {
   "cell_type": "code",
   "execution_count": 114,
   "id": "97295ef0",
   "metadata": {},
   "outputs": [
    {
     "data": {
      "text/plain": [
       "(1999, 5)"
      ]
     },
     "execution_count": 114,
     "metadata": {},
     "output_type": "execute_result"
    }
   ],
   "source": [
    "df.shape"
   ]
  },
  {
   "cell_type": "code",
   "execution_count": 115,
   "id": "deca917c",
   "metadata": {},
   "outputs": [
    {
     "data": {
      "text/plain": [
       "feature_1    float64\n",
       "feature_2    float64\n",
       "feature_3    float64\n",
       "feature_4    float64\n",
       "isVirus         bool\n",
       "dtype: object"
      ]
     },
     "execution_count": 115,
     "metadata": {},
     "output_type": "execute_result"
    }
   ],
   "source": [
    "df.dtypes"
   ]
  },
  {
   "cell_type": "code",
   "execution_count": 116,
   "id": "263553ae",
   "metadata": {},
   "outputs": [
    {
     "data": {
      "text/plain": [
       "0"
      ]
     },
     "execution_count": 116,
     "metadata": {},
     "output_type": "execute_result"
    }
   ],
   "source": [
    "df.duplicated().sum() #checking duplicated rows"
   ]
  },
  {
   "cell_type": "code",
   "execution_count": 117,
   "id": "a1147e39",
   "metadata": {},
   "outputs": [
    {
     "data": {
      "text/plain": [
       "feature_1    102\n",
       "feature_2    100\n",
       "feature_3    106\n",
       "feature_4    102\n",
       "isVirus        0\n",
       "dtype: int64"
      ]
     },
     "execution_count": 117,
     "metadata": {},
     "output_type": "execute_result"
    }
   ],
   "source": [
    "df.isnull().sum()  #checking how many empty rows"
   ]
  },
  {
   "cell_type": "code",
   "execution_count": 118,
   "id": "f8211bb8",
   "metadata": {},
   "outputs": [],
   "source": [
    "df = df.interpolate(method ='linear', limit_direction ='forward') #filling empty rows with linear method"
   ]
  },
  {
   "cell_type": "code",
   "execution_count": 119,
   "id": "a8428837",
   "metadata": {},
   "outputs": [
    {
     "data": {
      "text/plain": [
       "feature_1    0\n",
       "feature_2    0\n",
       "feature_3    0\n",
       "feature_4    0\n",
       "isVirus      0\n",
       "dtype: int64"
      ]
     },
     "execution_count": 119,
     "metadata": {},
     "output_type": "execute_result"
    }
   ],
   "source": [
    "df.isnull().sum() #checking if empty values get filled"
   ]
  },
  {
   "cell_type": "code",
   "execution_count": 120,
   "id": "296092ef",
   "metadata": {},
   "outputs": [
    {
     "data": {
      "text/plain": [
       "<AxesSubplot:ylabel='isVirus'>"
      ]
     },
     "execution_count": 120,
     "metadata": {},
     "output_type": "execute_result"
    },
    {
     "data": {
      "image/png": "[encoded data removed]",
      "text/plain": [
       "<Figure size 432x288 with 1 Axes>"
      ]
     },
     "metadata": {},
     "output_type": "display_data"
    }
   ],
   "source": [
    "df.isVirus.value_counts().plot(kind='pie',autopct='%1.0f%%') #checking virus percentage after filling empty values is there any difference"
   ]
  },
  {
   "cell_type": "code",
   "execution_count": 122,
   "id": "53ba7c3d",
   "metadata": {},
   "outputs": [],
   "source": [
    "df[\"Status\"] = \"\" #creating status column for making decision on clicking to link"
   ]
  },
  {
   "cell_type": "code",
   "execution_count": 123,
   "id": "4a70c982",
   "metadata": {},
   "outputs": [
    {
     "data": {
      "text/html": [
       "<div>\n",
       "<style scoped>\n",
       "    .dataframe tbody tr th:only-of-type {\n",
       "        vertical-align: middle;\n",
       "    }\n",
       "\n",
       "    .dataframe tbody tr th {\n",
       "        vertical-align: top;\n",
       "    }\n",
       "\n",
       "    .dataframe thead th {\n",
       "        text-align: right;\n",
       "    }\n",
       "</style>\n",
       "<table border=\"1\" class=\"dataframe\">\n",
       "  <thead>\n",
       "    <tr style=\"text-align: right;\">\n",
       "      <th></th>\n",
       "      <th>feature_1</th>\n",
       "      <th>feature_2</th>\n",
       "      <th>feature_3</th>\n",
       "      <th>feature_4</th>\n",
       "      <th>isVirus</th>\n",
       "      <th>Status</th>\n",
       "    </tr>\n",
       "  </thead>\n",
       "  <tbody>\n",
       "    <tr>\n",
       "      <th>0</th>\n",
       "      <td>-0.233467</td>\n",
       "      <td>0.308799</td>\n",
       "      <td>2.484015</td>\n",
       "      <td>1.732721</td>\n",
       "      <td>False</td>\n",
       "      <td></td>\n",
       "    </tr>\n",
       "    <tr>\n",
       "      <th>1</th>\n",
       "      <td>1.519003</td>\n",
       "      <td>1.238482</td>\n",
       "      <td>3.344450</td>\n",
       "      <td>0.783744</td>\n",
       "      <td>False</td>\n",
       "      <td></td>\n",
       "    </tr>\n",
       "    <tr>\n",
       "      <th>2</th>\n",
       "      <td>0.400640</td>\n",
       "      <td>1.916748</td>\n",
       "      <td>3.291096</td>\n",
       "      <td>-0.918519</td>\n",
       "      <td>False</td>\n",
       "      <td></td>\n",
       "    </tr>\n",
       "    <tr>\n",
       "      <th>3</th>\n",
       "      <td>-1.616474</td>\n",
       "      <td>0.209703</td>\n",
       "      <td>1.461544</td>\n",
       "      <td>-0.291837</td>\n",
       "      <td>False</td>\n",
       "      <td></td>\n",
       "    </tr>\n",
       "    <tr>\n",
       "      <th>4</th>\n",
       "      <td>1.480515</td>\n",
       "      <td>5.299829</td>\n",
       "      <td>2.640670</td>\n",
       "      <td>1.867559</td>\n",
       "      <td>True</td>\n",
       "      <td></td>\n",
       "    </tr>\n",
       "    <tr>\n",
       "      <th>...</th>\n",
       "      <td>...</td>\n",
       "      <td>...</td>\n",
       "      <td>...</td>\n",
       "      <td>...</td>\n",
       "      <td>...</td>\n",
       "      <td>...</td>\n",
       "    </tr>\n",
       "    <tr>\n",
       "      <th>1994</th>\n",
       "      <td>2.532559</td>\n",
       "      <td>2.139847</td>\n",
       "      <td>3.859104</td>\n",
       "      <td>2.190373</td>\n",
       "      <td>False</td>\n",
       "      <td></td>\n",
       "    </tr>\n",
       "    <tr>\n",
       "      <th>1995</th>\n",
       "      <td>3.295793</td>\n",
       "      <td>3.562990</td>\n",
       "      <td>3.001932</td>\n",
       "      <td>2.499590</td>\n",
       "      <td>False</td>\n",
       "      <td></td>\n",
       "    </tr>\n",
       "    <tr>\n",
       "      <th>1996</th>\n",
       "      <td>4.059027</td>\n",
       "      <td>1.977436</td>\n",
       "      <td>2.144760</td>\n",
       "      <td>4.257220</td>\n",
       "      <td>False</td>\n",
       "      <td></td>\n",
       "    </tr>\n",
       "    <tr>\n",
       "      <th>1997</th>\n",
       "      <td>3.457310</td>\n",
       "      <td>3.962342</td>\n",
       "      <td>3.770837</td>\n",
       "      <td>3.243168</td>\n",
       "      <td>False</td>\n",
       "      <td></td>\n",
       "    </tr>\n",
       "    <tr>\n",
       "      <th>1998</th>\n",
       "      <td>3.578521</td>\n",
       "      <td>3.349654</td>\n",
       "      <td>3.770837</td>\n",
       "      <td>1.562209</td>\n",
       "      <td>False</td>\n",
       "      <td></td>\n",
       "    </tr>\n",
       "  </tbody>\n",
       "</table>\n",
       "<p>1999 rows × 6 columns</p>\n",
       "</div>"
      ],
      "text/plain": [
       "      feature_1  feature_2  feature_3  feature_4  isVirus Status\n",
       "0     -0.233467   0.308799   2.484015   1.732721    False       \n",
       "1      1.519003   1.238482   3.344450   0.783744    False       \n",
       "2      0.400640   1.916748   3.291096  -0.918519    False       \n",
       "3     -1.616474   0.209703   1.461544  -0.291837    False       \n",
       "4      1.480515   5.299829   2.640670   1.867559     True       \n",
       "...         ...        ...        ...        ...      ...    ...\n",
       "1994   2.532559   2.139847   3.859104   2.190373    False       \n",
       "1995   3.295793   3.562990   3.001932   2.499590    False       \n",
       "1996   4.059027   1.977436   2.144760   4.257220    False       \n",
       "1997   3.457310   3.962342   3.770837   3.243168    False       \n",
       "1998   3.578521   3.349654   3.770837   1.562209    False       \n",
       "\n",
       "[1999 rows x 6 columns]"
      ]
     },
     "execution_count": 123,
     "metadata": {},
     "output_type": "execute_result"
    }
   ],
   "source": [
    "df"
   ]
  },
  {
   "cell_type": "code",
   "execution_count": 124,
   "id": "bcd290e2",
   "metadata": {
    "scrolled": true
   },
   "outputs": [],
   "source": [
    "df['Status'] = np.where(df['isVirus'], 'Stop','Pass') # giving status column to meaning if its virus stop sign if not pass"
   ]
  },
  {
   "cell_type": "code",
   "execution_count": 125,
   "id": "b44f9e12",
   "metadata": {},
   "outputs": [
    {
     "data": {
      "text/html": [
       "<div>\n",
       "<style scoped>\n",
       "    .dataframe tbody tr th:only-of-type {\n",
       "        vertical-align: middle;\n",
       "    }\n",
       "\n",
       "    .dataframe tbody tr th {\n",
       "        vertical-align: top;\n",
       "    }\n",
       "\n",
       "    .dataframe thead th {\n",
       "        text-align: right;\n",
       "    }\n",
       "</style>\n",
       "<table border=\"1\" class=\"dataframe\">\n",
       "  <thead>\n",
       "    <tr style=\"text-align: right;\">\n",
       "      <th></th>\n",
       "      <th>feature_1</th>\n",
       "      <th>feature_2</th>\n",
       "      <th>feature_3</th>\n",
       "      <th>feature_4</th>\n",
       "      <th>isVirus</th>\n",
       "      <th>Status</th>\n",
       "    </tr>\n",
       "  </thead>\n",
       "  <tbody>\n",
       "    <tr>\n",
       "      <th>0</th>\n",
       "      <td>-0.233467</td>\n",
       "      <td>0.308799</td>\n",
       "      <td>2.484015</td>\n",
       "      <td>1.732721</td>\n",
       "      <td>False</td>\n",
       "      <td>Pass</td>\n",
       "    </tr>\n",
       "    <tr>\n",
       "      <th>1</th>\n",
       "      <td>1.519003</td>\n",
       "      <td>1.238482</td>\n",
       "      <td>3.344450</td>\n",
       "      <td>0.783744</td>\n",
       "      <td>False</td>\n",
       "      <td>Pass</td>\n",
       "    </tr>\n",
       "    <tr>\n",
       "      <th>2</th>\n",
       "      <td>0.400640</td>\n",
       "      <td>1.916748</td>\n",
       "      <td>3.291096</td>\n",
       "      <td>-0.918519</td>\n",
       "      <td>False</td>\n",
       "      <td>Pass</td>\n",
       "    </tr>\n",
       "    <tr>\n",
       "      <th>3</th>\n",
       "      <td>-1.616474</td>\n",
       "      <td>0.209703</td>\n",
       "      <td>1.461544</td>\n",
       "      <td>-0.291837</td>\n",
       "      <td>False</td>\n",
       "      <td>Pass</td>\n",
       "    </tr>\n",
       "    <tr>\n",
       "      <th>4</th>\n",
       "      <td>1.480515</td>\n",
       "      <td>5.299829</td>\n",
       "      <td>2.640670</td>\n",
       "      <td>1.867559</td>\n",
       "      <td>True</td>\n",
       "      <td>Stop</td>\n",
       "    </tr>\n",
       "    <tr>\n",
       "      <th>...</th>\n",
       "      <td>...</td>\n",
       "      <td>...</td>\n",
       "      <td>...</td>\n",
       "      <td>...</td>\n",
       "      <td>...</td>\n",
       "      <td>...</td>\n",
       "    </tr>\n",
       "    <tr>\n",
       "      <th>1994</th>\n",
       "      <td>2.532559</td>\n",
       "      <td>2.139847</td>\n",
       "      <td>3.859104</td>\n",
       "      <td>2.190373</td>\n",
       "      <td>False</td>\n",
       "      <td>Pass</td>\n",
       "    </tr>\n",
       "    <tr>\n",
       "      <th>1995</th>\n",
       "      <td>3.295793</td>\n",
       "      <td>3.562990</td>\n",
       "      <td>3.001932</td>\n",
       "      <td>2.499590</td>\n",
       "      <td>False</td>\n",
       "      <td>Pass</td>\n",
       "    </tr>\n",
       "    <tr>\n",
       "      <th>1996</th>\n",
       "      <td>4.059027</td>\n",
       "      <td>1.977436</td>\n",
       "      <td>2.144760</td>\n",
       "      <td>4.257220</td>\n",
       "      <td>False</td>\n",
       "      <td>Pass</td>\n",
       "    </tr>\n",
       "    <tr>\n",
       "      <th>1997</th>\n",
       "      <td>3.457310</td>\n",
       "      <td>3.962342</td>\n",
       "      <td>3.770837</td>\n",
       "      <td>3.243168</td>\n",
       "      <td>False</td>\n",
       "      <td>Pass</td>\n",
       "    </tr>\n",
       "    <tr>\n",
       "      <th>1998</th>\n",
       "      <td>3.578521</td>\n",
       "      <td>3.349654</td>\n",
       "      <td>3.770837</td>\n",
       "      <td>1.562209</td>\n",
       "      <td>False</td>\n",
       "      <td>Pass</td>\n",
       "    </tr>\n",
       "  </tbody>\n",
       "</table>\n",
       "<p>1999 rows × 6 columns</p>\n",
       "</div>"
      ],
      "text/plain": [
       "      feature_1  feature_2  feature_3  feature_4  isVirus Status\n",
       "0     -0.233467   0.308799   2.484015   1.732721    False   Pass\n",
       "1      1.519003   1.238482   3.344450   0.783744    False   Pass\n",
       "2      0.400640   1.916748   3.291096  -0.918519    False   Pass\n",
       "3     -1.616474   0.209703   1.461544  -0.291837    False   Pass\n",
       "4      1.480515   5.299829   2.640670   1.867559     True   Stop\n",
       "...         ...        ...        ...        ...      ...    ...\n",
       "1994   2.532559   2.139847   3.859104   2.190373    False   Pass\n",
       "1995   3.295793   3.562990   3.001932   2.499590    False   Pass\n",
       "1996   4.059027   1.977436   2.144760   4.257220    False   Pass\n",
       "1997   3.457310   3.962342   3.770837   3.243168    False   Pass\n",
       "1998   3.578521   3.349654   3.770837   1.562209    False   Pass\n",
       "\n",
       "[1999 rows x 6 columns]"
      ]
     },
     "execution_count": 125,
     "metadata": {},
     "output_type": "execute_result"
    }
   ],
   "source": [
    "df "
   ]
  },
  {
   "cell_type": "code",
   "execution_count": 126,
   "id": "c63076ae",
   "metadata": {},
   "outputs": [],
   "source": [
    "df = df.replace({True: 'True', False: 'False'}) #replacing boolean value with object"
   ]
  },
  {
   "cell_type": "code",
   "execution_count": 127,
   "id": "7b72df56",
   "metadata": {},
   "outputs": [],
   "source": [
    "df['isVirus'] = df['isVirus'].astype('string') #changing column object to string"
   ]
  },
  {
   "cell_type": "code",
   "execution_count": 128,
   "id": "2527832f",
   "metadata": {},
   "outputs": [],
   "source": [
    "df['Status'] = df['Status'].astype('string') #changing column object to string"
   ]
  },
  {
   "cell_type": "code",
   "execution_count": 129,
   "id": "2b990ac5",
   "metadata": {},
   "outputs": [
    {
     "data": {
      "text/html": [
       "<div>\n",
       "<style scoped>\n",
       "    .dataframe tbody tr th:only-of-type {\n",
       "        vertical-align: middle;\n",
       "    }\n",
       "\n",
       "    .dataframe tbody tr th {\n",
       "        vertical-align: top;\n",
       "    }\n",
       "\n",
       "    .dataframe thead th {\n",
       "        text-align: right;\n",
       "    }\n",
       "</style>\n",
       "<table border=\"1\" class=\"dataframe\">\n",
       "  <thead>\n",
       "    <tr style=\"text-align: right;\">\n",
       "      <th></th>\n",
       "      <th>feature_1</th>\n",
       "      <th>feature_2</th>\n",
       "      <th>feature_3</th>\n",
       "      <th>feature_4</th>\n",
       "      <th>isVirus</th>\n",
       "      <th>Status</th>\n",
       "    </tr>\n",
       "  </thead>\n",
       "  <tbody>\n",
       "    <tr>\n",
       "      <th>0</th>\n",
       "      <td>-0.233467</td>\n",
       "      <td>0.308799</td>\n",
       "      <td>2.484015</td>\n",
       "      <td>1.732721</td>\n",
       "      <td>False</td>\n",
       "      <td>Pass</td>\n",
       "    </tr>\n",
       "    <tr>\n",
       "      <th>1</th>\n",
       "      <td>1.519003</td>\n",
       "      <td>1.238482</td>\n",
       "      <td>3.344450</td>\n",
       "      <td>0.783744</td>\n",
       "      <td>False</td>\n",
       "      <td>Pass</td>\n",
       "    </tr>\n",
       "    <tr>\n",
       "      <th>2</th>\n",
       "      <td>0.400640</td>\n",
       "      <td>1.916748</td>\n",
       "      <td>3.291096</td>\n",
       "      <td>-0.918519</td>\n",
       "      <td>False</td>\n",
       "      <td>Pass</td>\n",
       "    </tr>\n",
       "    <tr>\n",
       "      <th>3</th>\n",
       "      <td>-1.616474</td>\n",
       "      <td>0.209703</td>\n",
       "      <td>1.461544</td>\n",
       "      <td>-0.291837</td>\n",
       "      <td>False</td>\n",
       "      <td>Pass</td>\n",
       "    </tr>\n",
       "    <tr>\n",
       "      <th>4</th>\n",
       "      <td>1.480515</td>\n",
       "      <td>5.299829</td>\n",
       "      <td>2.640670</td>\n",
       "      <td>1.867559</td>\n",
       "      <td>True</td>\n",
       "      <td>Stop</td>\n",
       "    </tr>\n",
       "    <tr>\n",
       "      <th>...</th>\n",
       "      <td>...</td>\n",
       "      <td>...</td>\n",
       "      <td>...</td>\n",
       "      <td>...</td>\n",
       "      <td>...</td>\n",
       "      <td>...</td>\n",
       "    </tr>\n",
       "    <tr>\n",
       "      <th>1994</th>\n",
       "      <td>2.532559</td>\n",
       "      <td>2.139847</td>\n",
       "      <td>3.859104</td>\n",
       "      <td>2.190373</td>\n",
       "      <td>False</td>\n",
       "      <td>Pass</td>\n",
       "    </tr>\n",
       "    <tr>\n",
       "      <th>1995</th>\n",
       "      <td>3.295793</td>\n",
       "      <td>3.562990</td>\n",
       "      <td>3.001932</td>\n",
       "      <td>2.499590</td>\n",
       "      <td>False</td>\n",
       "      <td>Pass</td>\n",
       "    </tr>\n",
       "    <tr>\n",
       "      <th>1996</th>\n",
       "      <td>4.059027</td>\n",
       "      <td>1.977436</td>\n",
       "      <td>2.144760</td>\n",
       "      <td>4.257220</td>\n",
       "      <td>False</td>\n",
       "      <td>Pass</td>\n",
       "    </tr>\n",
       "    <tr>\n",
       "      <th>1997</th>\n",
       "      <td>3.457310</td>\n",
       "      <td>3.962342</td>\n",
       "      <td>3.770837</td>\n",
       "      <td>3.243168</td>\n",
       "      <td>False</td>\n",
       "      <td>Pass</td>\n",
       "    </tr>\n",
       "    <tr>\n",
       "      <th>1998</th>\n",
       "      <td>3.578521</td>\n",
       "      <td>3.349654</td>\n",
       "      <td>3.770837</td>\n",
       "      <td>1.562209</td>\n",
       "      <td>False</td>\n",
       "      <td>Pass</td>\n",
       "    </tr>\n",
       "  </tbody>\n",
       "</table>\n",
       "<p>1999 rows × 6 columns</p>\n",
       "</div>"
      ],
      "text/plain": [
       "      feature_1  feature_2  feature_3  feature_4 isVirus Status\n",
       "0     -0.233467   0.308799   2.484015   1.732721   False   Pass\n",
       "1      1.519003   1.238482   3.344450   0.783744   False   Pass\n",
       "2      0.400640   1.916748   3.291096  -0.918519   False   Pass\n",
       "3     -1.616474   0.209703   1.461544  -0.291837   False   Pass\n",
       "4      1.480515   5.299829   2.640670   1.867559    True   Stop\n",
       "...         ...        ...        ...        ...     ...    ...\n",
       "1994   2.532559   2.139847   3.859104   2.190373   False   Pass\n",
       "1995   3.295793   3.562990   3.001932   2.499590   False   Pass\n",
       "1996   4.059027   1.977436   2.144760   4.257220   False   Pass\n",
       "1997   3.457310   3.962342   3.770837   3.243168   False   Pass\n",
       "1998   3.578521   3.349654   3.770837   1.562209   False   Pass\n",
       "\n",
       "[1999 rows x 6 columns]"
      ]
     },
     "execution_count": 129,
     "metadata": {},
     "output_type": "execute_result"
    }
   ],
   "source": [
    "df"
   ]
  },
  {
   "cell_type": "code",
   "execution_count": 130,
   "id": "3c8026a1",
   "metadata": {
    "scrolled": true
   },
   "outputs": [],
   "source": [
    "df = df.replace({'True': 0, 'False': 1}) #for machine learning changing string true false values with 1 and 0 if output virus value is 0 if not 1"
   ]
  },
  {
   "cell_type": "code",
   "execution_count": 131,
   "id": "fc4415f3",
   "metadata": {},
   "outputs": [
    {
     "data": {
      "text/plain": [
       "feature_1    float64\n",
       "feature_2    float64\n",
       "feature_3    float64\n",
       "feature_4    float64\n",
       "isVirus        int64\n",
       "Status        string\n",
       "dtype: object"
      ]
     },
     "execution_count": 131,
     "metadata": {},
     "output_type": "execute_result"
    }
   ],
   "source": [
    "df.dtypes"
   ]
  },
  {
   "cell_type": "code",
   "execution_count": 132,
   "id": "6c1cf50a",
   "metadata": {},
   "outputs": [],
   "source": [
    "df = df.replace({'Stop': 0, 'Pass': 1})#for machine learning changing string stop Pass values with 1 and 0"
   ]
  },
  {
   "cell_type": "code",
   "execution_count": 133,
   "id": "7d339281",
   "metadata": {},
   "outputs": [
    {
     "data": {
      "text/html": [
       "<div>\n",
       "<style scoped>\n",
       "    .dataframe tbody tr th:only-of-type {\n",
       "        vertical-align: middle;\n",
       "    }\n",
       "\n",
       "    .dataframe tbody tr th {\n",
       "        vertical-align: top;\n",
       "    }\n",
       "\n",
       "    .dataframe thead th {\n",
       "        text-align: right;\n",
       "    }\n",
       "</style>\n",
       "<table border=\"1\" class=\"dataframe\">\n",
       "  <thead>\n",
       "    <tr style=\"text-align: right;\">\n",
       "      <th></th>\n",
       "      <th>feature_1</th>\n",
       "      <th>feature_2</th>\n",
       "      <th>feature_3</th>\n",
       "      <th>feature_4</th>\n",
       "      <th>isVirus</th>\n",
       "      <th>Status</th>\n",
       "    </tr>\n",
       "  </thead>\n",
       "  <tbody>\n",
       "    <tr>\n",
       "      <th>0</th>\n",
       "      <td>-0.233467</td>\n",
       "      <td>0.308799</td>\n",
       "      <td>2.484015</td>\n",
       "      <td>1.732721</td>\n",
       "      <td>1</td>\n",
       "      <td>1</td>\n",
       "    </tr>\n",
       "    <tr>\n",
       "      <th>1</th>\n",
       "      <td>1.519003</td>\n",
       "      <td>1.238482</td>\n",
       "      <td>3.344450</td>\n",
       "      <td>0.783744</td>\n",
       "      <td>1</td>\n",
       "      <td>1</td>\n",
       "    </tr>\n",
       "    <tr>\n",
       "      <th>2</th>\n",
       "      <td>0.400640</td>\n",
       "      <td>1.916748</td>\n",
       "      <td>3.291096</td>\n",
       "      <td>-0.918519</td>\n",
       "      <td>1</td>\n",
       "      <td>1</td>\n",
       "    </tr>\n",
       "    <tr>\n",
       "      <th>3</th>\n",
       "      <td>-1.616474</td>\n",
       "      <td>0.209703</td>\n",
       "      <td>1.461544</td>\n",
       "      <td>-0.291837</td>\n",
       "      <td>1</td>\n",
       "      <td>1</td>\n",
       "    </tr>\n",
       "    <tr>\n",
       "      <th>4</th>\n",
       "      <td>1.480515</td>\n",
       "      <td>5.299829</td>\n",
       "      <td>2.640670</td>\n",
       "      <td>1.867559</td>\n",
       "      <td>0</td>\n",
       "      <td>0</td>\n",
       "    </tr>\n",
       "    <tr>\n",
       "      <th>...</th>\n",
       "      <td>...</td>\n",
       "      <td>...</td>\n",
       "      <td>...</td>\n",
       "      <td>...</td>\n",
       "      <td>...</td>\n",
       "      <td>...</td>\n",
       "    </tr>\n",
       "    <tr>\n",
       "      <th>1994</th>\n",
       "      <td>2.532559</td>\n",
       "      <td>2.139847</td>\n",
       "      <td>3.859104</td>\n",
       "      <td>2.190373</td>\n",
       "      <td>1</td>\n",
       "      <td>1</td>\n",
       "    </tr>\n",
       "    <tr>\n",
       "      <th>1995</th>\n",
       "      <td>3.295793</td>\n",
       "      <td>3.562990</td>\n",
       "      <td>3.001932</td>\n",
       "      <td>2.499590</td>\n",
       "      <td>1</td>\n",
       "      <td>1</td>\n",
       "    </tr>\n",
       "    <tr>\n",
       "      <th>1996</th>\n",
       "      <td>4.059027</td>\n",
       "      <td>1.977436</td>\n",
       "      <td>2.144760</td>\n",
       "      <td>4.257220</td>\n",
       "      <td>1</td>\n",
       "      <td>1</td>\n",
       "    </tr>\n",
       "    <tr>\n",
       "      <th>1997</th>\n",
       "      <td>3.457310</td>\n",
       "      <td>3.962342</td>\n",
       "      <td>3.770837</td>\n",
       "      <td>3.243168</td>\n",
       "      <td>1</td>\n",
       "      <td>1</td>\n",
       "    </tr>\n",
       "    <tr>\n",
       "      <th>1998</th>\n",
       "      <td>3.578521</td>\n",
       "      <td>3.349654</td>\n",
       "      <td>3.770837</td>\n",
       "      <td>1.562209</td>\n",
       "      <td>1</td>\n",
       "      <td>1</td>\n",
       "    </tr>\n",
       "  </tbody>\n",
       "</table>\n",
       "<p>1999 rows × 6 columns</p>\n",
       "</div>"
      ],
      "text/plain": [
       "      feature_1  feature_2  feature_3  feature_4  isVirus  Status\n",
       "0     -0.233467   0.308799   2.484015   1.732721        1       1\n",
       "1      1.519003   1.238482   3.344450   0.783744        1       1\n",
       "2      0.400640   1.916748   3.291096  -0.918519        1       1\n",
       "3     -1.616474   0.209703   1.461544  -0.291837        1       1\n",
       "4      1.480515   5.299829   2.640670   1.867559        0       0\n",
       "...         ...        ...        ...        ...      ...     ...\n",
       "1994   2.532559   2.139847   3.859104   2.190373        1       1\n",
       "1995   3.295793   3.562990   3.001932   2.499590        1       1\n",
       "1996   4.059027   1.977436   2.144760   4.257220        1       1\n",
       "1997   3.457310   3.962342   3.770837   3.243168        1       1\n",
       "1998   3.578521   3.349654   3.770837   1.562209        1       1\n",
       "\n",
       "[1999 rows x 6 columns]"
      ]
     },
     "execution_count": 133,
     "metadata": {},
     "output_type": "execute_result"
    }
   ],
   "source": [
    "df  #checking if everything changed as ordered"
   ]
  },
  {
   "cell_type": "code",
   "execution_count": 134,
   "id": "a10510bf",
   "metadata": {},
   "outputs": [],
   "source": [
    "X = df.drop(['Status'],axis = 1)  #droping independent variable as we should click or not click to link acording to virus status\n",
    "y = df['Status']  #assing rest variables for testing"
   ]
  },
  {
   "cell_type": "code",
   "execution_count": 135,
   "id": "506f1ec1",
   "metadata": {},
   "outputs": [],
   "source": [
    "X_train, X_test, y_train, y_test = train_test_split(X, y, test_size = 0.20, random_state = 42)\n",
    "#diving data into 2 parts train and test set , we give test set size of %20 percent and %80 for train data with randoms_state we divide data randomly"
   ]
  },
  {
   "cell_type": "code",
   "execution_count": 136,
   "id": "394673e2",
   "metadata": {},
   "outputs": [],
   "source": [
    "knn_model = KNeighborsRegressor() #creating model from library"
   ]
  },
  {
   "cell_type": "code",
   "execution_count": 137,
   "id": "61d2eea9",
   "metadata": {},
   "outputs": [],
   "source": [
    "model = knn_model.fit(X_train, y_train)  #training model with train data sets"
   ]
  },
  {
   "cell_type": "code",
   "execution_count": 147,
   "id": "66cb5312",
   "metadata": {},
   "outputs": [],
   "source": [
    "new_data = [[4.059027],[1.977436],[2.144760],[4.257220],[0]] #giving random data to model if our model can comprehend giving numbers and output status as a 1 or 0, 1=non virus 0=for virus we giving isVirus status as 0 = (false=virus) as trying to trick model "
   ]
  },
  {
   "cell_type": "code",
   "execution_count": 148,
   "id": "108bd5ca",
   "metadata": {},
   "outputs": [],
   "source": [
    "new_data = pd.DataFrame(new_data).T"
   ]
  },
  {
   "cell_type": "code",
   "execution_count": 149,
   "id": "67aaa9c4",
   "metadata": {},
   "outputs": [
    {
     "data": {
      "text/plain": [
       "array([1.])"
      ]
     },
     "execution_count": 149,
     "metadata": {},
     "output_type": "execute_result"
    }
   ],
   "source": [
    "model.predict(new_data) #making predict giving data as we said its virus for tricking model, model pridicted its not virus"
   ]
  },
  {
   "cell_type": "code",
   "execution_count": 150,
   "id": "b6f2990c",
   "metadata": {},
   "outputs": [],
   "source": [
    "y_pred = model.predict(X_test)"
   ]
  },
  {
   "cell_type": "code",
   "execution_count": null,
   "id": "fd3d8046",
   "metadata": {},
   "outputs": [],
   "source": [
    "#checking test eror"
   ]
  },
  {
   "cell_type": "code",
   "execution_count": 153,
   "id": "a885b84c",
   "metadata": {},
   "outputs": [
    {
     "data": {
      "text/plain": [
       "0.09848857801796106"
      ]
     },
     "execution_count": 153,
     "metadata": {},
     "output_type": "execute_result"
    }
   ],
   "source": [
    "np.sqrt(mean_squared_error(y_test,y_pred))"
   ]
  },
  {
   "cell_type": "code",
   "execution_count": null,
   "id": "919e9141",
   "metadata": {},
   "outputs": [],
   "source": [
    "#checking train error"
   ]
  },
  {
   "cell_type": "code",
   "execution_count": 154,
   "id": "bc644482",
   "metadata": {},
   "outputs": [
    {
     "data": {
      "text/plain": [
       "0.06802861480855305"
      ]
     },
     "execution_count": 154,
     "metadata": {},
     "output_type": "execute_result"
    }
   ],
   "source": [
    "np.sqrt(mean_squared_error(y_train, model.predict(X_train)))"
   ]
  },
  {
   "cell_type": "code",
   "execution_count": 155,
   "id": "d8f49d02",
   "metadata": {},
   "outputs": [],
   "source": [
    "#checking different k values for train errors"
   ]
  },
  {
   "cell_type": "code",
   "execution_count": 164,
   "id": "795826ab",
   "metadata": {},
   "outputs": [
    {
     "name": "stdout",
     "output_type": "stream",
     "text": [
      "kvalues- 1 error 0.0\n",
      "kvalues- 2 error 0.043314808182421\n",
      "kvalues- 3 error 0.05714831664361067\n",
      "kvalues- 4 error 0.06375767130633384\n",
      "kvalues- 5 error 0.06802861480855305\n",
      "kvalues- 6 error 0.07314756541523498\n",
      "kvalues- 7 error 0.07637229266613965\n",
      "kvalues- 8 error 0.0819936085612962\n",
      "kvalues- 9 error 0.08446353316610336\n",
      "kvalues- 10 error 0.08806160786197935\n",
      "kvalues- 11 error 0.08933193288497597\n",
      "kvalues- 12 error 0.09240304412037954\n",
      "kvalues- 13 error 0.09649120593777046\n",
      "kvalues- 14 error 0.10065134836952427\n",
      "kvalues- 15 error 0.10319070630552958\n",
      "kvalues- 16 error 0.10590328505228505\n",
      "kvalues- 17 error 0.10849914019010327\n",
      "kvalues- 18 error 0.11163105363781568\n",
      "kvalues- 19 error 0.11437323425861048\n",
      "kvalues- 20 error 0.11644086072457092\n",
      "kvalues- 21 error 0.11998056072892076\n",
      "kvalues- 22 error 0.12302849097982281\n",
      "kvalues- 23 error 0.12531768558658993\n",
      "kvalues- 24 error 0.12728097446041495\n",
      "kvalues- 25 error 0.1287025746457711\n",
      "kvalues- 26 error 0.13201044317707505\n",
      "kvalues- 27 error 0.1347221630222017\n",
      "kvalues- 28 error 0.1372410790647209\n",
      "kvalues- 29 error 0.13989033464431974\n",
      "kvalues- 30 error 0.14257379804249973\n"
     ]
    }
   ],
   "source": [
    "for k in range(30):\n",
    "    k=k+1\n",
    "    k_model = KNeighborsRegressor(n_neighbors = k).fit(X_train, y_train)\n",
    "    y_pred = k_model.predict(X_train)\n",
    "    error = np.sqrt(mean_squared_error(y_train, y_pred))\n",
    "    \n",
    "    print('kvalues-' ,k, 'error',error)"
   ]
  },
  {
   "cell_type": "code",
   "execution_count": null,
   "id": "d192229f",
   "metadata": {},
   "outputs": [],
   "source": [
    "#checking different k values for test errors"
   ]
  },
  {
   "cell_type": "code",
   "execution_count": 165,
   "id": "bb4138e6",
   "metadata": {},
   "outputs": [
    {
     "name": "stdout",
     "output_type": "stream",
     "text": [
      "kvalues- 1 error 0.08660254037844387\n",
      "kvalues- 2 error 0.1\n",
      "kvalues- 3 error 0.1\n",
      "kvalues- 4 error 0.10077822185373188\n",
      "kvalues- 5 error 0.09848857801796106\n",
      "kvalues- 6 error 0.10069204977995476\n",
      "kvalues- 7 error 0.10570463276391959\n",
      "kvalues- 8 error 0.11039701082909809\n",
      "kvalues- 9 error 0.10801234497346433\n",
      "kvalues- 10 error 0.1105667219374799\n",
      "kvalues- 11 error 0.11544022817454813\n",
      "kvalues- 12 error 0.11953323573150876\n",
      "kvalues- 13 error 0.12301681224399598\n",
      "kvalues- 14 error 0.12637004294967236\n",
      "kvalues- 15 error 0.13042665031009235\n",
      "kvalues- 16 error 0.13306043035027354\n",
      "kvalues- 17 error 0.13355661811462036\n",
      "kvalues- 18 error 0.13647909440598052\n",
      "kvalues- 19 error 0.13964735959391159\n",
      "kvalues- 20 error 0.14111165791670086\n",
      "kvalues- 21 error 0.14305541795999813\n",
      "kvalues- 22 error 0.1462337085649583\n",
      "kvalues- 23 error 0.14784207074712438\n",
      "kvalues- 24 error 0.14979731676872957\n",
      "kvalues- 25 error 0.15273506473629428\n",
      "kvalues- 26 error 0.15592347538941914\n",
      "kvalues- 27 error 0.1581464133828005\n",
      "kvalues- 28 error 0.15982891043939734\n",
      "kvalues- 29 error 0.16147175365830613\n",
      "kvalues- 30 error 0.16360521589077368\n"
     ]
    }
   ],
   "source": [
    "for k in range(30):\n",
    "    k=k+1\n",
    "    k_model = KNeighborsRegressor(n_neighbors = k).fit(X_train, y_train)\n",
    "    y_pred = k_model.predict(X_test)\n",
    "    error = np.sqrt(mean_squared_error(y_test, y_pred))\n",
    "    \n",
    "    print('kvalues-' ,k, 'error',error)"
   ]
  },
  {
   "cell_type": "code",
   "execution_count": 166,
   "id": "36749fdb",
   "metadata": {},
   "outputs": [],
   "source": [
    "# finding ideal k values"
   ]
  },
  {
   "cell_type": "code",
   "execution_count": 167,
   "id": "6c05f17c",
   "metadata": {},
   "outputs": [],
   "source": [
    "knn_values = {'n_neighbors': np.arange(1,30,1)} #giving array of number for our model to try all k values one by one"
   ]
  },
  {
   "cell_type": "code",
   "execution_count": 168,
   "id": "667b14a4",
   "metadata": {},
   "outputs": [],
   "source": [
    "knn = KNeighborsRegressor()  #creating model again"
   ]
  },
  {
   "cell_type": "code",
   "execution_count": 169,
   "id": "98e644e7",
   "metadata": {},
   "outputs": [],
   "source": [
    "knn_cv_model = GridSearchCV(knn, knn_values, cv = 10) "
   ]
  },
  {
   "cell_type": "code",
   "execution_count": 170,
   "id": "34e91572",
   "metadata": {},
   "outputs": [
    {
     "data": {
      "text/plain": [
       "GridSearchCV(cv=10, estimator=KNeighborsRegressor(),\n",
       "             param_grid={'n_neighbors': array([ 1,  2,  3,  4,  5,  6,  7,  8,  9, 10, 11, 12, 13, 14, 15, 16, 17,\n",
       "       18, 19, 20, 21, 22, 23, 24, 25, 26, 27, 28, 29])})"
      ]
     },
     "execution_count": 170,
     "metadata": {},
     "output_type": "execute_result"
    }
   ],
   "source": [
    "knn_cv_model.fit(X_train, y_train) #train our model with different k values"
   ]
  },
  {
   "cell_type": "code",
   "execution_count": 171,
   "id": "82771b6a",
   "metadata": {},
   "outputs": [
    {
     "data": {
      "text/plain": [
       "{'n_neighbors': 1}"
      ]
     },
     "execution_count": 171,
     "metadata": {},
     "output_type": "execute_result"
    }
   ],
   "source": [
    "knn_cv_model.best_params_ #best k value for our model which in this case is '1'"
   ]
  },
  {
   "cell_type": "code",
   "execution_count": 173,
   "id": "4d232423",
   "metadata": {},
   "outputs": [],
   "source": [
    "#making model with ideal k value and checking error value"
   ]
  },
  {
   "cell_type": "code",
   "execution_count": 174,
   "id": "a88c8277",
   "metadata": {},
   "outputs": [],
   "source": [
    "model = KNeighborsRegressor(n_neighbors=1)"
   ]
  },
  {
   "cell_type": "code",
   "execution_count": 175,
   "id": "b868aabe",
   "metadata": {},
   "outputs": [],
   "source": [
    "model_knn = model.fit(X_train, y_train)  #training model again"
   ]
  },
  {
   "cell_type": "code",
   "execution_count": 176,
   "id": "b5bd17bc",
   "metadata": {},
   "outputs": [
    {
     "data": {
      "text/plain": [
       "KNeighborsRegressor(n_neighbors=1)"
      ]
     },
     "execution_count": 176,
     "metadata": {},
     "output_type": "execute_result"
    }
   ],
   "source": [
    "model_knn #checking its k value which we give as 1 is true or not"
   ]
  },
  {
   "cell_type": "code",
   "execution_count": 177,
   "id": "bfd70841",
   "metadata": {},
   "outputs": [
    {
     "data": {
      "text/plain": [
       "array([1.])"
      ]
     },
     "execution_count": 177,
     "metadata": {},
     "output_type": "execute_result"
    }
   ],
   "source": [
    "model_knn.predict(new_data) #with new k value make model predict its virus or not from our giving sample"
   ]
  },
  {
   "cell_type": "code",
   "execution_count": 178,
   "id": "64477902",
   "metadata": {},
   "outputs": [
    {
     "data": {
      "text/plain": [
       "array([0., 0., 0., 0., 0., 1., 1., 1., 1., 1., 1., 1., 0., 1., 0., 0., 0.,\n",
       "       1., 1., 1., 1., 0., 0., 1., 0., 1., 0., 1., 0., 1., 1., 1., 0., 1.,\n",
       "       1., 1., 0., 1., 0., 1., 1., 1., 0., 0., 1., 1., 1., 0., 1., 0., 1.,\n",
       "       1., 1., 0., 0., 1., 1., 0., 1., 0., 1., 1., 1., 1., 1., 1., 1., 1.,\n",
       "       0., 1., 1., 1., 1., 1., 1., 1., 1., 1., 0., 1., 1., 1., 1., 1., 0.,\n",
       "       1., 0., 0., 1., 1., 0., 0., 0., 1., 1., 1., 1., 1., 1., 1., 1., 1.,\n",
       "       1., 0., 1., 1., 0., 0., 0., 0., 1., 0., 1., 1., 0., 0., 1., 1., 1.,\n",
       "       1., 0., 0., 0., 1., 1., 1., 0., 0., 0., 1., 0., 1., 1., 1., 1., 1.,\n",
       "       1., 1., 0., 0., 1., 1., 1., 1., 0., 1., 0., 0., 1., 1., 1., 0., 0.,\n",
       "       1., 1., 1., 0., 1., 0., 0., 1., 0., 1., 1., 1., 1., 0., 0., 1., 1.,\n",
       "       1., 1., 1., 0., 1., 1., 0., 1., 1., 1., 1., 1., 0., 1., 0., 1., 0.,\n",
       "       1., 1., 0., 0., 1., 1., 1., 1., 1., 0., 1., 0., 1., 0., 0., 1., 1.,\n",
       "       0., 1., 1., 1., 0., 0., 1., 1., 1., 0., 1., 1., 1., 1., 1., 0., 0.,\n",
       "       0., 1., 0., 0., 0., 1., 0., 1., 0., 0., 1., 1., 1., 0., 1., 1., 1.,\n",
       "       1., 1., 1., 1., 1., 0., 1., 1., 1., 1., 1., 1., 1., 1., 1., 0., 1.,\n",
       "       1., 0., 0., 1., 0., 1., 1., 0., 1., 1., 0., 1., 0., 1., 1., 0., 1.,\n",
       "       1., 1., 0., 1., 1., 1., 1., 1., 1., 1., 0., 1., 1., 1., 0., 0., 1.,\n",
       "       0., 1., 0., 1., 1., 1., 0., 1., 1., 1., 1., 1., 1., 1., 1., 1., 1.,\n",
       "       1., 1., 0., 1., 0., 1., 0., 0., 0., 1., 1., 1., 1., 1., 0., 0., 1.,\n",
       "       1., 0., 1., 0., 1., 1., 1., 1., 1., 0., 1., 0., 1., 0., 0., 1., 1.,\n",
       "       0., 1., 1., 0., 1., 1., 1., 1., 1., 1., 0., 0., 1., 1., 1., 1., 0.,\n",
       "       1., 1., 0., 0., 1., 1., 1., 0., 1., 0., 1., 0., 1., 1., 1., 0., 1.,\n",
       "       0., 0., 1., 1., 0., 0., 1., 1., 1., 0., 1., 1., 1., 1., 1., 1., 1.,\n",
       "       0., 1., 1., 1., 1., 1., 1., 0., 0.])"
      ]
     },
     "execution_count": 178,
     "metadata": {},
     "output_type": "execute_result"
    }
   ],
   "source": [
    "model.predict(X_test)  #predicted test values not validated"
   ]
  },
  {
   "cell_type": "code",
   "execution_count": 180,
   "id": "b582cec3",
   "metadata": {},
   "outputs": [
    {
     "data": {
      "text/plain": [
       "256     0\n",
       "352     0\n",
       "298     0\n",
       "581     0\n",
       "1288    0\n",
       "1765    1\n",
       "420     1\n",
       "1587    1\n",
       "65      1\n",
       "1611    1\n",
       "Name: Status, dtype: int64"
      ]
     },
     "execution_count": 180,
     "metadata": {},
     "output_type": "execute_result"
    }
   ],
   "source": [
    "y_test[0:10] #predicted y test values"
   ]
  },
  {
   "cell_type": "code",
   "execution_count": 182,
   "id": "78302678",
   "metadata": {},
   "outputs": [],
   "source": [
    "g_d = pd.DataFrame({'y_test':y_test,\n",
    "             'guessed values':y_pred})  #creating new data frame with test and guessed values from model"
   ]
  },
  {
   "cell_type": "code",
   "execution_count": 183,
   "id": "970af3b7",
   "metadata": {},
   "outputs": [
    {
     "data": {
      "text/html": [
       "<div>\n",
       "<style scoped>\n",
       "    .dataframe tbody tr th:only-of-type {\n",
       "        vertical-align: middle;\n",
       "    }\n",
       "\n",
       "    .dataframe tbody tr th {\n",
       "        vertical-align: top;\n",
       "    }\n",
       "\n",
       "    .dataframe thead th {\n",
       "        text-align: right;\n",
       "    }\n",
       "</style>\n",
       "<table border=\"1\" class=\"dataframe\">\n",
       "  <thead>\n",
       "    <tr style=\"text-align: right;\">\n",
       "      <th></th>\n",
       "      <th>y_test</th>\n",
       "      <th>guessed values</th>\n",
       "    </tr>\n",
       "  </thead>\n",
       "  <tbody>\n",
       "    <tr>\n",
       "      <th>256</th>\n",
       "      <td>0</td>\n",
       "      <td>0.033333</td>\n",
       "    </tr>\n",
       "    <tr>\n",
       "      <th>352</th>\n",
       "      <td>0</td>\n",
       "      <td>0.000000</td>\n",
       "    </tr>\n",
       "    <tr>\n",
       "      <th>298</th>\n",
       "      <td>0</td>\n",
       "      <td>0.200000</td>\n",
       "    </tr>\n",
       "    <tr>\n",
       "      <th>581</th>\n",
       "      <td>0</td>\n",
       "      <td>0.500000</td>\n",
       "    </tr>\n",
       "    <tr>\n",
       "      <th>1288</th>\n",
       "      <td>0</td>\n",
       "      <td>0.000000</td>\n",
       "    </tr>\n",
       "    <tr>\n",
       "      <th>...</th>\n",
       "      <td>...</td>\n",
       "      <td>...</td>\n",
       "    </tr>\n",
       "    <tr>\n",
       "      <th>650</th>\n",
       "      <td>1</td>\n",
       "      <td>0.900000</td>\n",
       "    </tr>\n",
       "    <tr>\n",
       "      <th>1973</th>\n",
       "      <td>1</td>\n",
       "      <td>1.000000</td>\n",
       "    </tr>\n",
       "    <tr>\n",
       "      <th>261</th>\n",
       "      <td>1</td>\n",
       "      <td>1.000000</td>\n",
       "    </tr>\n",
       "    <tr>\n",
       "      <th>1305</th>\n",
       "      <td>0</td>\n",
       "      <td>0.000000</td>\n",
       "    </tr>\n",
       "    <tr>\n",
       "      <th>966</th>\n",
       "      <td>0</td>\n",
       "      <td>0.000000</td>\n",
       "    </tr>\n",
       "  </tbody>\n",
       "</table>\n",
       "<p>400 rows × 2 columns</p>\n",
       "</div>"
      ],
      "text/plain": [
       "      y_test  guessed values\n",
       "256        0        0.033333\n",
       "352        0        0.000000\n",
       "298        0        0.200000\n",
       "581        0        0.500000\n",
       "1288       0        0.000000\n",
       "...      ...             ...\n",
       "650        1        0.900000\n",
       "1973       1        1.000000\n",
       "261        1        1.000000\n",
       "1305       0        0.000000\n",
       "966        0        0.000000\n",
       "\n",
       "[400 rows x 2 columns]"
      ]
     },
     "execution_count": 183,
     "metadata": {},
     "output_type": "execute_result"
    }
   ],
   "source": [
    "g_d"
   ]
  },
  {
   "cell_type": "code",
   "execution_count": 185,
   "id": "4cd2c159",
   "metadata": {},
   "outputs": [],
   "source": [
    "g_d['difference'] = g_d['y_test'] - g_d['guessed values'] #getting error difference"
   ]
  },
  {
   "cell_type": "code",
   "execution_count": 186,
   "id": "7aab7b3c",
   "metadata": {},
   "outputs": [
    {
     "data": {
      "text/html": [
       "<div>\n",
       "<style scoped>\n",
       "    .dataframe tbody tr th:only-of-type {\n",
       "        vertical-align: middle;\n",
       "    }\n",
       "\n",
       "    .dataframe tbody tr th {\n",
       "        vertical-align: top;\n",
       "    }\n",
       "\n",
       "    .dataframe thead th {\n",
       "        text-align: right;\n",
       "    }\n",
       "</style>\n",
       "<table border=\"1\" class=\"dataframe\">\n",
       "  <thead>\n",
       "    <tr style=\"text-align: right;\">\n",
       "      <th></th>\n",
       "      <th>y_test</th>\n",
       "      <th>guessed values</th>\n",
       "      <th>difference</th>\n",
       "    </tr>\n",
       "  </thead>\n",
       "  <tbody>\n",
       "    <tr>\n",
       "      <th>256</th>\n",
       "      <td>0</td>\n",
       "      <td>0.033333</td>\n",
       "      <td>-0.033333</td>\n",
       "    </tr>\n",
       "    <tr>\n",
       "      <th>352</th>\n",
       "      <td>0</td>\n",
       "      <td>0.000000</td>\n",
       "      <td>0.000000</td>\n",
       "    </tr>\n",
       "    <tr>\n",
       "      <th>298</th>\n",
       "      <td>0</td>\n",
       "      <td>0.200000</td>\n",
       "      <td>-0.200000</td>\n",
       "    </tr>\n",
       "    <tr>\n",
       "      <th>581</th>\n",
       "      <td>0</td>\n",
       "      <td>0.500000</td>\n",
       "      <td>-0.500000</td>\n",
       "    </tr>\n",
       "    <tr>\n",
       "      <th>1288</th>\n",
       "      <td>0</td>\n",
       "      <td>0.000000</td>\n",
       "      <td>0.000000</td>\n",
       "    </tr>\n",
       "    <tr>\n",
       "      <th>...</th>\n",
       "      <td>...</td>\n",
       "      <td>...</td>\n",
       "      <td>...</td>\n",
       "    </tr>\n",
       "    <tr>\n",
       "      <th>650</th>\n",
       "      <td>1</td>\n",
       "      <td>0.900000</td>\n",
       "      <td>0.100000</td>\n",
       "    </tr>\n",
       "    <tr>\n",
       "      <th>1973</th>\n",
       "      <td>1</td>\n",
       "      <td>1.000000</td>\n",
       "      <td>0.000000</td>\n",
       "    </tr>\n",
       "    <tr>\n",
       "      <th>261</th>\n",
       "      <td>1</td>\n",
       "      <td>1.000000</td>\n",
       "      <td>0.000000</td>\n",
       "    </tr>\n",
       "    <tr>\n",
       "      <th>1305</th>\n",
       "      <td>0</td>\n",
       "      <td>0.000000</td>\n",
       "      <td>0.000000</td>\n",
       "    </tr>\n",
       "    <tr>\n",
       "      <th>966</th>\n",
       "      <td>0</td>\n",
       "      <td>0.000000</td>\n",
       "      <td>0.000000</td>\n",
       "    </tr>\n",
       "  </tbody>\n",
       "</table>\n",
       "<p>400 rows × 3 columns</p>\n",
       "</div>"
      ],
      "text/plain": [
       "      y_test  guessed values  difference\n",
       "256        0        0.033333   -0.033333\n",
       "352        0        0.000000    0.000000\n",
       "298        0        0.200000   -0.200000\n",
       "581        0        0.500000   -0.500000\n",
       "1288       0        0.000000    0.000000\n",
       "...      ...             ...         ...\n",
       "650        1        0.900000    0.100000\n",
       "1973       1        1.000000    0.000000\n",
       "261        1        1.000000    0.000000\n",
       "1305       0        0.000000    0.000000\n",
       "966        0        0.000000    0.000000\n",
       "\n",
       "[400 rows x 3 columns]"
      ]
     },
     "execution_count": 186,
     "metadata": {},
     "output_type": "execute_result"
    }
   ],
   "source": [
    "g_d"
   ]
  },
  {
   "cell_type": "code",
   "execution_count": 188,
   "id": "e9c5d602",
   "metadata": {},
   "outputs": [
    {
     "data": {
      "text/plain": [
       "0.0"
      ]
     },
     "execution_count": 188,
     "metadata": {},
     "output_type": "execute_result"
    }
   ],
   "source": [
    "np.sqrt(mean_squared_error(y_train, model_knn.predict(X_train))) #finding train error not validated"
   ]
  },
  {
   "cell_type": "code",
   "execution_count": 192,
   "id": "13953373",
   "metadata": {},
   "outputs": [
    {
     "data": {
      "text/plain": [
       "0.07637923934602152"
      ]
     },
     "execution_count": 192,
     "metadata": {},
     "output_type": "execute_result"
    }
   ],
   "source": [
    "#validated train error\n",
    "np.sqrt(-1 * cross_val_score(model_knn, X_train, y_train, cv = 10, scoring='neg_mean_squared_error')).mean()"
   ]
  },
  {
   "cell_type": "code",
   "execution_count": null,
   "id": "4e97bc26",
   "metadata": {},
   "outputs": [],
   "source": []
  },
  {
   "cell_type": "code",
   "execution_count": null,
   "id": "9d532735",
   "metadata": {},
   "outputs": [],
   "source": []
  },
  {
   "cell_type": "code",
   "execution_count": null,
   "id": "e4516bdb",
   "metadata": {},
   "outputs": [],
   "source": []
  },
  {
   "cell_type": "code",
   "execution_count": null,
   "id": "723f402e",
   "metadata": {},
   "outputs": [],
   "source": []
  }
 ],
 "metadata": {
  "kernelspec": {
   "display_name": "Python 3 (ipykernel)",
   "language": "python",
   "name": "python3"
  },
  "language_info": {
   "codemirror_mode": {
    "name": "ipython",
    "version": 3
   },
   "file_extension": ".py",
   "mimetype": "text/x-python",
   "name": "python",
   "nbconvert_exporter": "python",
   "pygments_lexer": "ipython3",
   "version": "3.9.7"
  }
 },
 "nbformat": 4,
 "nbformat_minor": 5
}
